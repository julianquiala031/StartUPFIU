{
  "cells": [
    {
      "cell_type": "code",
      "execution_count": null,
      "metadata": {
        "id": "tooXErn86qOB"
      },
      "outputs": [],
      "source": [
        "import pandas as pd\n",
        "import matplotlib.pyplot as plt\n",
        "\n",
        "data = pd.read_csv('/content/event_data.csv')"
      ]
    },
    {
      "cell_type": "code",
      "execution_count": null,
      "metadata": {
        "id": "_6QDEhtStFYM"
      },
      "outputs": [],
      "source": [
        "data.columns"
      ]
    },
    {
      "cell_type": "markdown",
      "metadata": {
        "id": "4H_kTd3Y6vcp"
      },
      "source": [
        "####Top 10 Students by Number of Events Attended"
      ]
    },
    {
      "cell_type": "code",
      "execution_count": null,
      "metadata": {
        "id": "xOkedlWKldlX"
      },
      "outputs": [],
      "source": [
        "# Count the number of events attended by each Name\n",
        "event_counts = data['Name'].value_counts()\n",
        "\n",
        "# Filter to find Names with more than one event attendance\n",
        "multiple_events = event_counts[event_counts > 1]\n",
        "\n",
        "# Get details of students who attended more than one event\n",
        "students_multiple_events = data[data['Name'].isin(multiple_events.index)]\n",
        "\n",
        "# Get the top 10 students who attended the most events\n",
        "top10_students = multiple_events.head(10)\n",
        "\n",
        "# Replace Names with Student 1, Student 2, etc.\n",
        "top10_students.index = ['Student ' + str(i+1) for i in range(len(top10_students))]\n",
        "\n",
        "# Create a bar plot\n",
        "plt.figure(figsize=(10, 6))\n",
        "top10_students.plot(kind='bar', color='teal')\n",
        "plt.title('Top 10 Students by Number of Events Attended')\n",
        "plt.xlabel('Student Number')\n",
        "plt.ylabel('Number of Events Attended')\n",
        "plt.xticks(rotation=45)\n",
        "plt.grid(True, linestyle='--', alpha=0.6)\n",
        "plt.show()"
      ]
    },
    {
      "cell_type": "markdown",
      "metadata": {
        "id": "Fc71K3vL65x7"
      },
      "source": [
        "#### Distribution of Event Attendance"
      ]
    },
    {
      "cell_type": "code",
      "execution_count": null,
      "metadata": {
        "id": "JXBjjvsX4u8c"
      },
      "outputs": [],
      "source": [
        "# Count how many times each attendance count occurs (how many students attended exactly 1, 2, 3,... events)\n",
        "attendance_distribution = event_counts.value_counts()\n",
        "\n",
        "# Group all attendance counts greater than 5\n",
        "more_than_5 = attendance_distribution[attendance_distribution.index > 5].sum()\n",
        "attendance_distribution = attendance_distribution[attendance_distribution.index <= 5]\n",
        "\n",
        "# Manually add the \"More than 5\" category\n",
        "attendance_distribution.loc['More than 5'] = more_than_5\n",
        "\n",
        "# Create a pie chart of event attendance\n",
        "plt.figure(figsize=(10, 10))\n",
        "plt.pie(attendance_distribution.values, labels=attendance_distribution.index, autopct='%1.1f%%', startangle=140, colors=plt.cm.Paired.colors, textprops={'fontsize': 12})\n",
        "\n",
        "plt.title('Distribution of Event Attendance')\n",
        "plt.axis('equal')  # Equal aspect ratio ensures that pie is drawn as a circle.\n",
        "plt.show()"
      ]
    },
    {
      "cell_type": "code",
      "execution_count": null,
      "metadata": {
        "id": "WXxeCfi03FdN"
      },
      "outputs": [],
      "source": [
        "import matplotlib.pyplot as plt\n",
        "\n",
        "# Assuming 'event_counts' has already been defined and contains the number of events each student attended\n",
        "\n",
        "# Count how many times each attendance count occurs (how many students attended exactly 1, 2, 3,... events)\n",
        "attendance_distribution = event_counts.value_counts()\n",
        "\n",
        "# Group all attendance counts greater than 15\n",
        "more_than_15 = attendance_distribution[attendance_distribution.index > 15].sum()\n",
        "attendance_distribution = attendance_distribution[attendance_distribution.index <= 15]\n",
        "\n",
        "# Manually add the \"More than 15\" category\n",
        "attendance_distribution.loc['>15'] = more_than_15\n",
        "\n",
        "# Create a histogram of event attendance\n",
        "plt.figure(figsize=(10, 6))\n",
        "# Convert index to string and use it as x labels, while plotting against a range of numbers\n",
        "bars = plt.bar(range(len(attendance_distribution)), attendance_distribution.values, color='skyblue', alpha=0.7)\n",
        "\n",
        "# Add text annotations above each bar\n",
        "for i, bar in enumerate(bars):\n",
        "    yval = bar.get_height()\n",
        "    plt.text(bar.get_x() + bar.get_width()/2, yval, int(yval), va='bottom')  # va: vertical alignment\n",
        "\n",
        "plt.title('Distribution of Event Attendance')\n",
        "plt.xlabel('Number of Events Attended')\n",
        "plt.ylabel('Number of Students')\n",
        "plt.xticks(range(len(attendance_distribution)), attendance_distribution.index)  # Set custom x-axis labels\n",
        "plt.grid(axis='y', linestyle='--', alpha=0.6)\n",
        "plt.show()"
      ]
    },
    {
      "cell_type": "code",
      "execution_count": null,
      "metadata": {
        "id": "wUeHmNrrsRQl"
      },
      "outputs": [],
      "source": [
        "import matplotlib.pyplot as plt\n",
        "\n",
        "# Assuming 'event_counts' has already been defined and contains the number of events each student attended\n",
        "\n",
        "# Count how many times each attendance count occurs (how many students attended exactly 1, 2, 3,... events)\n",
        "attendance_distribution = event_counts.value_counts()\n",
        "\n",
        "# Group all attendance counts greater than 15\n",
        "more_than_15 = attendance_distribution[attendance_distribution.index > 15].sum()\n",
        "attendance_distribution = attendance_distribution[attendance_distribution.index <= 15]\n",
        "\n",
        "# Manually add the \"More than 15\" category\n",
        "attendance_distribution.loc['>15'] = more_than_15\n",
        "\n",
        "# Remove the bar for 1 event attended\n",
        "attendance_distribution = attendance_distribution[attendance_distribution.index != 1]\n",
        "\n",
        "# Create a histogram of event attendance\n",
        "plt.figure(figsize=(10, 6))\n",
        "# Convert index to string and use it as x labels, while plotting against a range of numbers\n",
        "bars = plt.bar(range(len(attendance_distribution)), attendance_distribution.values, color='skyblue', alpha=0.7)\n",
        "\n",
        "# Add text annotations above each bar\n",
        "for i, bar in enumerate(bars):\n",
        "    yval = bar.get_height()\n",
        "    plt.text(bar.get_x() + bar.get_width()/2, yval, int(yval), va='bottom')  # va: vertical alignment\n",
        "\n",
        "plt.title('Distribution of Event Attendance Excluding Single Event Attendance')\n",
        "plt.xlabel('Number of Events Attended')\n",
        "plt.ylabel('Number of Students')\n",
        "plt.xticks(range(len(attendance_distribution)), attendance_distribution.index)  # Set custom x-axis labels\n",
        "plt.grid(axis='y', linestyle='--', alpha=0.6)\n",
        "plt.show()"
      ]
    },
    {
      "cell_type": "markdown",
      "metadata": {
        "id": "N9F-CqzO7HAf"
      },
      "source": [
        "#### List of Events Attended by the Top 15 Students"
      ]
    },
    {
      "cell_type": "code",
      "execution_count": null,
      "metadata": {
        "collapsed": true,
        "id": "tIc_WPHauppJ"
      },
      "outputs": [],
      "source": [
        "# Get the top 15 students based on the number of events attended\n",
        "top15_students = event_counts.nlargest(15).index\n",
        "\n",
        "# Filter the original data to include only the top 15 students\n",
        "top15_students_data = data[data['Name'].isin(top15_students)]\n",
        "\n",
        "# Create a dictionary to store the events and dates attended by each top student\n",
        "student_events = top15_students_data.groupby('Name').apply(\n",
        "    lambda x: list(zip(x['Event'], x['Date']))\n",
        ").to_dict()\n",
        "\n",
        "# Print the list of events and dates attended by each top student\n",
        "for student, events in student_events.items():\n",
        "    print(f\"{student} attended the following events:\")\n",
        "    for event, date in events:\n",
        "        print(f\" - {event} on {date}\")\n",
        "    print(\"\\n\")  # Adds a newline for better separation between students"
      ]
    },
    {
      "cell_type": "markdown",
      "source": [
        "Pretty table version"
      ],
      "metadata": {
        "id": "xnc1R7JXVacJ"
      }
    },
    {
      "cell_type": "code",
      "source": [
        "!pip install prettytable"
      ],
      "metadata": {
        "id": "9VSk4HOyQxzi"
      },
      "execution_count": null,
      "outputs": []
    },
    {
      "cell_type": "code",
      "source": [
        "import pandas as pd\n",
        "from prettytable import PrettyTable\n",
        "\n",
        "# Function to truncate long strings\n",
        "def truncate_string(s, length=30):\n",
        "    return s if len(s) <= length else s[:27] + '...'\n",
        "\n",
        "# Aggregate the data to count the number of each event attended by each student (by name)\n",
        "event_counts_table = data.groupby(['Name', 'Event']).size().reset_index(name='Count')\n",
        "\n",
        "# Truncate long event names and format the events and counts into a single string per student\n",
        "event_counts_table['Event'] = event_counts_table['Event'].apply(truncate_string) + ': ' + event_counts_table['Count'].astype(str)\n",
        "grouped_events = event_counts_table.groupby('Name')['Event'].apply(lambda x: '\\n'.join(x)).reset_index(name='Events')\n",
        "\n",
        "# Summarize to find the total events attended by each student\n",
        "total_events = event_counts_table.groupby('Name')['Count'].sum().reset_index(name='Total')\n",
        "\n",
        "# Merge the detailed events with the total\n",
        "final_table = pd.merge(grouped_events, total_events, on='Name')\n",
        "\n",
        "# Sort the students by the total number of events attended in descending order and take the top 10\n",
        "final_table = final_table.sort_values(by='Total', ascending=False).head(10)\n",
        "\n",
        "# Add a position column\n",
        "final_table.insert(0, 'Position', range(1, 1 + len(final_table)))\n",
        "\n",
        "# Creating a PrettyTable\n",
        "pretty_table = PrettyTable()\n",
        "pretty_table.field_names = final_table.columns.tolist()  # Set the table headers to the DataFrame column names\n",
        "\n",
        "# Adding rows from the DataFrame to the pretty table\n",
        "for index, row in final_table.iterrows():\n",
        "    pretty_table.add_row(row)\n",
        "    # Add an empty row with the correct number of columns\n",
        "    pretty_table.add_row([''] * len(final_table.columns))\n",
        "\n",
        "# Convert to string and replace empty lines with a newline for visual clarity\n",
        "table_string = pretty_table.get_string()\n",
        "table_string = table_string.replace('\\n \\n', '\\n')  # Remove any blank lines that may look too spaced\n",
        "\n",
        "# Print the final table with spaces\n",
        "print(table_string)\n"
      ],
      "metadata": {
        "id": "vWpfhMsoNF23"
      },
      "execution_count": null,
      "outputs": []
    },
    {
      "cell_type": "markdown",
      "metadata": {
        "id": "LE43tIaD7Wrc"
      },
      "source": [
        "#### Hacker Nation Attendance"
      ]
    },
    {
      "cell_type": "code",
      "execution_count": null,
      "metadata": {
        "id": "3zGWflcx3Sx-"
      },
      "outputs": [],
      "source": [
        "# Convert 'Date' column to datetime format\n",
        "#print(typeof(data['Date']))\n",
        "data['Date'] = pd.to_datetime(data['Date'], format='mixed')\n",
        "\n",
        "# Sort data by 'Name' and 'Date'\n",
        "sorted_data = data.sort_values(by=['Name', 'Date'])\n",
        "\n",
        "# Get the first event attended by each student\n",
        "first_events = sorted_data.groupby('Name').first().reset_index()\n",
        "\n",
        "# Count the number of students whose first event was \"Hacker Nation\" versus others\n",
        "hacker_nation_count = first_events[first_events['Event'] == 'HN'].shape[0]\n",
        "other_events_count = first_events[first_events['Event'] != 'HN'].shape[0]\n",
        "\n",
        "# Create a pie chart\n",
        "labels = ['Hacker Nation', 'Other Events']\n",
        "sizes = [hacker_nation_count, other_events_count]\n",
        "colors = ['skyblue', 'lightcoral']\n",
        "explode = (0.1, 0)  # explode the first slice\n",
        "\n",
        "plt.figure(figsize=(8, 8))\n",
        "plt.pie(sizes, explode=explode, labels=labels, colors=colors, autopct='%1.1f%%',\n",
        "        shadow=True, startangle=140)\n",
        "\n",
        "plt.title('Percentage of Students Whose First Event was \"Hacker Nation\" vs Other Events')\n",
        "plt.show()"
      ]
    },
    {
      "cell_type": "code",
      "execution_count": null,
      "metadata": {
        "id": "Nr8H3QZO-V5d"
      },
      "outputs": [],
      "source": [
        "# Count the number of events attended by each student\n",
        "event_counts_sorted = sorted_data['Name'].value_counts()\n",
        "\n",
        "# Filter students who attended 2 or more events\n",
        "students_2_or_more_events = event_counts_sorted[event_counts_sorted >= 2].index\n",
        "\n",
        "# Filter the original data to include only these students\n",
        "students_data_sorted = sorted_data[sorted_data['Name'].isin(students_2_or_more_events)]\n",
        "\n",
        "# Get the first event attended by each student\n",
        "first_events_students = students_data_sorted.groupby('Name').first().reset_index()\n",
        "\n",
        "# Count the number of students whose first event was \"Hacker Nation\"\n",
        "hacker_nation_first_count = first_events_students[first_events_students['Event'] == 'HN'].shape[0]\n",
        "\n",
        "# Count the number of students whose first event was not \"Hacker Nation\"\n",
        "other_first_count = first_events_students[first_events_students['Event'] != 'HN'].shape[0]\n",
        "\n",
        "# Create a bar chart\n",
        "labels = ['Hacker Nation First', 'Other Event First']\n",
        "counts = [hacker_nation_first_count, other_first_count]\n",
        "colors = ['skyblue', 'lightcoral']\n",
        "\n",
        "plt.figure(figsize=(10, 6))\n",
        "bars = plt.bar(labels, counts, color=colors, alpha=0.7)\n",
        "\n",
        "# Add text annotations above each bar\n",
        "for bar in bars:\n",
        "    yval = bar.get_height()\n",
        "    plt.text(bar.get_x() + bar.get_width()/2, yval, int(yval), va='bottom', ha='center')  # va: vertical alignment, ha: horizontal alignment\n",
        "\n",
        "plt.title('Students Attending 2 or More Events: First Event Attendance')\n",
        "plt.xlabel('First Event')\n",
        "plt.ylabel('Number of Students')\n",
        "plt.grid(axis='y', linestyle='--', alpha=0.6)\n",
        "plt.show()\n"
      ]
    },
    {
      "cell_type": "code",
      "execution_count": null,
      "metadata": {
        "id": "ApDQMAo44TML"
      },
      "outputs": [],
      "source": [
        "# Filter students who attended 2 or more events\n",
        "students_2_or_more_events = event_counts[event_counts >= 2].index\n",
        "\n",
        "# Filter the original data to include only these students\n",
        "students_data = data[data['Name'].isin(students_2_or_more_events)]\n",
        "\n",
        "# Check if these students attended \"Hacker Nation\" at least once\n",
        "hacker_nation_attendees = students_data[students_data['Event'] == 'HN']['Name'].unique()\n",
        "\n",
        "# Count the number of students who attended \"Hacker Nation\" at least once\n",
        "hacker_nation_count = len(hacker_nation_attendees)\n",
        "\n",
        "# Count the number of students who attended 2 or more events but not \"Hacker Nation\"\n",
        "no_hacker_nation_count = len(students_2_or_more_events) - hacker_nation_count\n",
        "\n",
        "# Create a bar chart\n",
        "labels = ['Attended Hacker Nation', 'Did Not Attend Hacker Nation']\n",
        "counts = [hacker_nation_count, no_hacker_nation_count]\n",
        "colors = ['skyblue', 'lightcoral']\n",
        "\n",
        "plt.figure(figsize=(10, 6))\n",
        "bars = plt.bar(labels, counts, color=colors, alpha=0.7)\n",
        "\n",
        "# Add text annotations above each bar\n",
        "for bar in bars:\n",
        "    yval = bar.get_height()\n",
        "    plt.text(bar.get_x() + bar.get_width()/2, yval, int(yval), va='bottom', ha='center')\n",
        "\n",
        "plt.title('Students Attending 2 or More Events: Attendance of \"Hacker Nation\"')\n",
        "plt.xlabel('Attendance')\n",
        "plt.ylabel('Number of Students')\n",
        "plt.grid(axis='y', linestyle='--', alpha=0.6)\n",
        "plt.show()"
      ]
    },
    {
      "cell_type": "markdown",
      "metadata": {
        "id": "mP5fNI8nAYU3"
      },
      "source": [
        "#### Attendance By Event"
      ]
    },
    {
      "cell_type": "code",
      "execution_count": null,
      "metadata": {
        "id": "5SUlSCKGAdtR"
      },
      "outputs": [],
      "source": [
        "# Count the number of attendees for each event\n",
        "event_attendance = data['Event'].value_counts()\n",
        "\n",
        "# Create a bar chart of the events with the highest attendance\n",
        "plt.figure(figsize=(12, 8))\n",
        "bars = plt.bar(event_attendance.index, event_attendance.values, color='skyblue', alpha=0.7)\n",
        "\n",
        "# Add text annotations above each bar\n",
        "for bar in bars:\n",
        "    yval = bar.get_height()\n",
        "    plt.text(bar.get_x() + bar.get_width()/2, yval, int(yval), va='bottom', ha='center')\n",
        "\n",
        "plt.title('Events with the Highest Attendance')\n",
        "plt.xlabel('Event')\n",
        "plt.ylabel('Number of Attendees')\n",
        "plt.xticks(rotation=45, ha='right')\n",
        "plt.grid(axis='y', linestyle='--', alpha=0.6)\n",
        "plt.show()\n"
      ]
    },
    {
      "cell_type": "markdown",
      "source": [
        "#### Full Event Data Analysis"
      ],
      "metadata": {
        "id": "OfxhbjMCjoTH"
      }
    },
    {
      "cell_type": "markdown",
      "source": [
        "questions\n",
        "- are people signing up for programs the same people going to events?\n",
        "> if so, what events are they going to?\n",
        "\n",
        "- who are the people engaging with the programs?"
      ],
      "metadata": {
        "id": "egB5eBikjt5i"
      }
    },
    {
      "cell_type": "code",
      "source": [
        "event_data = pd.read_csv('/content/event_data.csv')\n",
        "program_data = pd.read_csv('/content/program_data.csv')"
      ],
      "metadata": {
        "id": "_jo0ABp9kVq4"
      },
      "execution_count": null,
      "outputs": []
    },
    {
      "cell_type": "code",
      "source": [
        "event_data.columns"
      ],
      "metadata": {
        "id": "u1A-s6BNkkli"
      },
      "execution_count": null,
      "outputs": []
    },
    {
      "cell_type": "code",
      "source": [
        "program_data.columns"
      ],
      "metadata": {
        "id": "hCuGDgNVkoAg"
      },
      "execution_count": null,
      "outputs": []
    },
    {
      "cell_type": "markdown",
      "source": [
        "Students that attended both programs and events"
      ],
      "metadata": {
        "id": "FlPXUYDCuKLS"
      }
    },
    {
      "cell_type": "code",
      "source": [
        "# Extract unique names from both dataframes\n",
        "unique_event_names = set(event_data['Name'].dropna().unique())\n",
        "unique_program_names = set(program_data['Name'].dropna().unique())\n",
        "\n",
        "# Find the intersection of both sets to identify common names\n",
        "common_names = unique_event_names.intersection(unique_program_names)\n",
        "\n",
        "# Display the number of common names\n",
        "print(f\"Number of students in both datasets: {len(common_names)}\\n\")\n",
        "print(\"Names of students who attended both events and programs:\\n\")\n",
        "\n",
        "# Print each name on a new line\n",
        "for name in common_names:\n",
        "    print(name)"
      ],
      "metadata": {
        "id": "E3R1zB0Illvg"
      },
      "execution_count": null,
      "outputs": []
    },
    {
      "cell_type": "code",
      "source": [
        "# Total number of unique students in program_data\n",
        "total_program_students = len(unique_program_names)\n",
        "# Number of program students who also attended events\n",
        "common_students_count = len(common_names)\n",
        "\n",
        "# Percentage calculation\n",
        "percentage_common = (common_students_count / total_program_students) * 100\n",
        "\n",
        "# Creating the chart\n",
        "fig, ax = plt.subplots()\n",
        "ax.bar(['Total Program Students', 'Also Attended Events'], [total_program_students, common_students_count], color=['blue', 'green'])\n",
        "ax.set_ylabel('Number of Students')\n",
        "ax.set_title('Program Participation and Event Attendance')\n",
        "\n",
        "# Adding percentage text\n",
        "ax.text(1, common_students_count, f'{percentage_common:.2f}%', ha='center', va='bottom', color='black')\n",
        "\n",
        "plt.show()"
      ],
      "metadata": {
        "id": "OlWgEsjpukAB"
      },
      "execution_count": null,
      "outputs": []
    },
    {
      "cell_type": "markdown",
      "source": [
        "Trying to see whether people attend events or programs first (no data on the dates for programs)"
      ],
      "metadata": {
        "id": "IvPEoNq6z4E1"
      }
    },
    {
      "cell_type": "code",
      "source": [
        "# Filter the dataframes to include only names and dates\n",
        "event_data_filtered = event_data[['Name', 'Date']]\n",
        "program_data_filtered = program_data[['Name', 'Date']]\n",
        "\n",
        "# Extract unique names from both dataframes\n",
        "unique_event_names = set(event_data['Name'].dropna().unique())\n",
        "unique_program_names = set(program_data['Name'].dropna().unique())\n",
        "\n",
        "# Find intersection of both sets to identify common names\n",
        "common_names = unique_event_names.intersection(unique_program_names)\n",
        "\n",
        "# Create a dataframe for students who attended both events and programs\n",
        "common_names_df = pd.DataFrame(list(common_names), columns=['Name'])\n",
        "\n",
        "# Merge to get dates\n",
        "common_events = pd.merge(common_names_df, event_data_filtered, on='Name', how='left')\n",
        "common_programs = pd.merge(common_names_df, program_data_filtered, on='Name', how='left')\n",
        "\n",
        "# !!! Print the dates (if/when the data exists)"
      ],
      "metadata": {
        "id": "iKSOQynYvHVs"
      },
      "execution_count": null,
      "outputs": []
    },
    {
      "cell_type": "code",
      "source": [
        "# Filter the dataframes to include only relevant columns\n",
        "event_data_filtered = event_data[['Name', 'Event']]\n",
        "program_data_filtered = program_data[['Name', 'Program']]\n",
        "\n",
        "# Create a dataframe for students who attended both events and programs\n",
        "common_names_df = pd.DataFrame(list(common_names), columns=['Name'])\n",
        "\n",
        "# Merge to get event and program names\n",
        "common_events = pd.merge(common_names_df, event_data_filtered, on='Name', how='left')\n",
        "common_programs = pd.merge(common_names_df, program_data_filtered, on='Name', how='left')\n",
        "\n",
        "# Set pandas to display all rows temporarily\n",
        "pd.set_option('display.max_rows', None)\n",
        "\n",
        "# Display the data\n",
        "print(\"Events attended by students who also attended programs:\")\n",
        "print(common_events)\n",
        "print(\"\\nPrograms attended by students who also attended events:\")\n",
        "print(common_programs)\n",
        "\n",
        "# Reset the display option to default to avoid slowing down your notebook in future operations\n",
        "pd.reset_option('display.max_rows')"
      ],
      "metadata": {
        "id": "WkQKQZh-0BE_"
      },
      "execution_count": null,
      "outputs": []
    },
    {
      "cell_type": "code",
      "source": [
        "# Group all non-\"HN\" events into an \"Other Events\" category\n",
        "event_counts = common_events['Event'].value_counts()\n",
        "other_events_sum = event_counts[event_counts.index != 'HN'].sum()\n",
        "event_counts = event_counts[event_counts.index == 'HN']\n",
        "event_counts['Other Events'] = other_events_sum\n",
        "\n",
        "# Rename \"HN\" to \"Hacker Nation\"\n",
        "event_counts.index = ['Hacker Nation' if x == 'HN' else x for x in event_counts.index]\n",
        "\n",
        "# Plotting the pie chart\n",
        "plt.figure(figsize=(10, 8))\n",
        "plt.pie(event_counts, labels=event_counts.index, autopct='%1.1f%%', startangle=140)\n",
        "plt.title('Events Attended by Students Who Also Attended a Program')\n",
        "plt.axis('equal')\n",
        "\n",
        "plt.show()"
      ],
      "metadata": {
        "id": "zMqx9ahE49RC"
      },
      "execution_count": null,
      "outputs": []
    },
    {
      "cell_type": "code",
      "source": [
        "# Count the occurrence of each program\n",
        "program_counts = common_programs['Program'].value_counts()\n",
        "\n",
        "# Plotting the pie chart\n",
        "plt.figure(figsize=(10, 8))\n",
        "plt.pie(program_counts, labels=program_counts.index, autopct='%1.1f%%', startangle=140)\n",
        "plt.title('Programs Attended by Participants That Also Attended Events')\n",
        "plt.axis('equal')\n",
        "\n",
        "plt.show()"
      ],
      "metadata": {
        "id": "583q0roD5_a5"
      },
      "execution_count": null,
      "outputs": []
    },
    {
      "cell_type": "code",
      "source": [
        "# Filter the event_data to find attendees of the \"HN\" event\n",
        "hn_attendees = event_data[event_data['Event'] == 'HN']['Name'].unique()\n",
        "\n",
        "# Filter the program_data to find all unique names\n",
        "program_attendees = program_data['Name'].unique()\n",
        "\n",
        "# Find the intersection of hn_attendees and program_attendees\n",
        "hn_program_common = [name for name in hn_attendees if name in program_attendees]\n",
        "\n",
        "# Calculate the percentage\n",
        "percentage = (len(hn_program_common) / len(hn_attendees)) * 100\n",
        "\n",
        "# Print the result\n",
        "print(f\"Out of the students that attended the 'HN' event, {percentage:.2f}% of them appear in the program data.\")"
      ],
      "metadata": {
        "id": "itJzxKSvFDRk"
      },
      "execution_count": null,
      "outputs": []
    },
    {
      "cell_type": "code",
      "source": [
        "# Filter the event_data to find attendees of the \"HN\" event\n",
        "hn_attendees = event_data[event_data['Event'] == 'HN']['Name'].unique()\n",
        "\n",
        "# Filter the program_data to find all unique names\n",
        "program_attendees = program_data['Name'].unique()\n",
        "\n",
        "# Find the intersection of program_attendees and hn_attendees\n",
        "program_hn_common = [name for name in program_attendees if name in hn_attendees]\n",
        "\n",
        "# Calculate the percentage\n",
        "percentage = (len(program_hn_common) / len(program_attendees)) * 100\n",
        "\n",
        "# Print the result\n",
        "print(f\"Out of the students that appear in the program data, {percentage:.2f}% of them attended the 'HN' event.\")"
      ],
      "metadata": {
        "id": "Fh8WmVvKGKo8"
      },
      "execution_count": null,
      "outputs": []
    },
    {
      "cell_type": "code",
      "source": [
        "import pandas as pd\n",
        "import matplotlib.pyplot as plt\n",
        "\n",
        "# Load the datasets\n",
        "program_data = pd.read_csv('/content/program_data.csv')\n",
        "event_data = pd.read_csv('/content/event_data.csv')\n",
        "\n",
        "# Data cleaning\n",
        "program_data['Name'] = program_data['Name'].str.strip().str.title()\n",
        "event_data['Name'] = event_data['Name'].str.strip().str.title()\n",
        "\n",
        "# Convert date strings to datetime objects\n",
        "program_data['Date'] = pd.to_datetime(program_data['Date'])\n",
        "event_data['Date'] = pd.to_datetime(event_data['Date'], errors='coerce')  # Handles dates without times\n",
        "\n",
        "# Merge datasets on Name\n",
        "merged_data = pd.merge(program_data, event_data, on='Name', suffixes=('_program', '_event'))\n",
        "\n",
        "# Check for number of matches\n",
        "print(f\"Total matches found: {len(merged_data)}\")\n",
        "\n",
        "# For each student, find the earliest event date\n",
        "merged_data['First Event Date'] = merged_data.groupby('Name')['Date_event'].transform('min')\n",
        "\n",
        "# Determine if the first event date is before the program date\n",
        "merged_data['First Event Before Program'] = merged_data['First Event Date'] < merged_data['Date_program']\n",
        "\n",
        "# Group by Name and check if any entry per student has an event before the program\n",
        "first_event_before_program = merged_data.groupby('Name')['First Event Before Program'].any()\n",
        "\n",
        "# Calculate the percentage of students who attended at least one event before their program\n",
        "percent_before = first_event_before_program.mean() * 100\n",
        "\n",
        "# Print the percentage\n",
        "print(f\"Percentage of students who attended at least one event before their program: {percent_before:.2f}%\")\n",
        "\n",
        "# Optionally, display detailed data for each student\n",
        "detailed_data = merged_data[['Name', 'Date_program', 'Program', 'First Event Date', 'First Event Before Program']].drop_duplicates()\n",
        "print(detailed_data.head(10))"
      ],
      "metadata": {
        "id": "tle7xw7Lt5ka"
      },
      "execution_count": null,
      "outputs": []
    },
    {
      "cell_type": "markdown",
      "source": [
        "#### Conclusions"
      ],
      "metadata": {
        "id": "dh8V9ezf7zL_"
      }
    },
    {
      "cell_type": "markdown",
      "source": [
        "- people joining programs are usually not the same ones attending events\n",
        "- Only around 20% of people have both attended an event and joined a program\n",
        "- when they do, its almost always HN\n",
        "- nearly all people that attend more than one event attend HN -> but they don't necessarily attend one first and then the other\n",
        "\n",
        "- there is no way to know whether HN encourages students to apply for programs, or whether students that have attended programs are more likely to be interested in HN (there is no date information for the programs)\n",
        "\n",
        "- but still, only a small amount of HN attendees go on to participate in programs (4.59%), and a small amount of people that participate in programs are part of HN (12.5%).\n",
        "> there is not a lot of overlap between events and conversions to programs\n",
        "\n",
        "> hacker nation is the event that makes people return (or the event that people who return like the most)\n",
        "\n",
        "\n",
        "to do:\n",
        "- check info on people in the programs list (undergrads/faculty/grad students) -> are they more likely to be faculty/phds?"
      ],
      "metadata": {
        "id": "8QL9tRop72T7"
      }
    }
  ],
  "metadata": {
    "colab": {
      "collapsed_sections": [
        "4H_kTd3Y6vcp",
        "Fc71K3vL65x7",
        "N9F-CqzO7HAf",
        "LE43tIaD7Wrc",
        "mP5fNI8nAYU3"
      ],
      "provenance": []
    },
    "kernelspec": {
      "display_name": "Python 3",
      "name": "python3"
    },
    "language_info": {
      "name": "python"
    }
  },
  "nbformat": 4,
  "nbformat_minor": 0
}